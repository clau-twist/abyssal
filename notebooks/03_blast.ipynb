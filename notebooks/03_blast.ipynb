{
 "cells": [
  {
   "cell_type": "code",
   "execution_count": 1,
   "id": "d8e644f9",
   "metadata": {
    "execution": {
     "iopub.execute_input": "2023-08-01T11:15:58.698581Z",
     "iopub.status.busy": "2023-08-01T11:15:58.698411Z",
     "iopub.status.idle": "2023-08-01T11:16:14.078590Z",
     "shell.execute_reply": "2023-08-01T11:16:14.078041Z",
     "shell.execute_reply.started": "2023-08-01T11:15:58.698528Z"
    },
    "tags": []
   },
   "outputs": [],
   "source": [
    "import pandas as pd\n",
    "import numpy as np\n",
    "import os"
   ]
  },
  {
   "cell_type": "code",
   "execution_count": 4,
   "id": "1dc053f7",
   "metadata": {
    "execution": {
     "iopub.execute_input": "2023-08-01T11:17:34.513621Z",
     "iopub.status.busy": "2023-08-01T11:17:34.513352Z",
     "iopub.status.idle": "2023-08-01T11:17:34.518234Z",
     "shell.execute_reply": "2023-08-01T11:17:34.517824Z",
     "shell.execute_reply.started": "2023-08-01T11:17:34.513588Z"
    },
    "tags": []
   },
   "outputs": [],
   "source": [
    "def proccessBlast(file, all_against_all = False):\n",
    "    blast = pd.read_csv(file, header=None, names=[\"qacc\", \"sacc\", \"qseq\", \"sseq\", \"pident\", \"length\", \"mismatch\", \"gapopen\", \"qstart\", \"qend\", \"sstart\", \"send\", \"evalue\", \"bitscore\"], sep=\"\\t\", index_col=False)\n",
    "    if all_against_all == True:\n",
    "        blast = blast[blast[\"qacc\"]!=blast[\"sacc\"]]\n",
    "    blast = blast.sort_values(\"pident\")[::-1]\n",
    "    blast = blast.reset_index(drop=True)\n",
    "    return blast"
   ]
  },
  {
   "cell_type": "code",
   "execution_count": 33,
   "id": "954bac24",
   "metadata": {
    "execution": {
     "iopub.execute_input": "2023-07-25T15:56:38.452287Z",
     "iopub.status.busy": "2023-07-25T15:56:38.452090Z",
     "iopub.status.idle": "2023-07-25T15:56:38.454917Z",
     "shell.execute_reply": "2023-07-25T15:56:38.454535Z",
     "shell.execute_reply.started": "2023-07-25T15:56:38.452268Z"
    },
    "tags": []
   },
   "outputs": [],
   "source": [
    "def writeFastas(header, seq, fasta_file):\n",
    "    with open(fasta_file, 'a') as f:\n",
    "        f.write(f'>{header}\\n')\n",
    "        f.write(f'{seq}\\n')"
   ]
  },
  {
   "cell_type": "markdown",
   "id": "fbdc92c4",
   "metadata": {},
   "source": [
    "## Mega against mega"
   ]
  },
  {
   "cell_type": "code",
   "execution_count": null,
   "id": "d5f0f062",
   "metadata": {},
   "outputs": [],
   "source": [
    "#makeblastdb -in mega_seqs.fasta -title 'wt' -dbtype prot\n",
    "#blastp -query mega_seqs.fasta -out blast.out -db mega_seqs.fasta -evalue 0.00001 -outfmt \"6 qacc sacc qseq sseq pident length mismatch gapopen qstart qend sstart send evalue bitscore\""
   ]
  },
  {
   "cell_type": "code",
   "execution_count": 38,
   "id": "e29926c3",
   "metadata": {
    "execution": {
     "iopub.execute_input": "2023-07-25T16:53:46.357507Z",
     "iopub.status.busy": "2023-07-25T16:53:46.357314Z",
     "iopub.status.idle": "2023-07-25T16:53:46.393641Z",
     "shell.execute_reply": "2023-07-25T16:53:46.393201Z",
     "shell.execute_reply.started": "2023-07-25T16:53:46.357488Z"
    },
    "tags": []
   },
   "outputs": [],
   "source": [
    "proccessBlast('fasta_blast/blast_mega_against_mega.out', all_against_all = True).to_csv('fasta_blast/blast_mega_against_mega.tsv', sep='\\t', index=False)"
   ]
  },
  {
   "cell_type": "markdown",
   "id": "4971622a",
   "metadata": {},
   "source": [
    "## Exclude proteins similar to Mega dataset from validation sets"
   ]
  },
  {
   "cell_type": "code",
   "execution_count": 34,
   "id": "c31e1776",
   "metadata": {
    "execution": {
     "iopub.execute_input": "2023-07-25T15:56:45.072175Z",
     "iopub.status.busy": "2023-07-25T15:56:45.071984Z",
     "iopub.status.idle": "2023-07-25T15:56:45.117782Z",
     "shell.execute_reply": "2023-07-25T15:56:45.117368Z",
     "shell.execute_reply.started": "2023-07-25T15:56:45.072156Z"
    },
    "tags": []
   },
   "outputs": [],
   "source": [
    "# merge validation datasets\n",
    "dfs = {}\n",
    "for i in ['S669', 'Ssym', 'p53', 'Myoglobin', 'S2648']: # \"old\" datasets\n",
    "    file = f'datasets/{i}.tsv'\n",
    "    df = pd.read_table(file)\n",
    "    df['id'] = df['pdb'] + '_' + df['chain']\n",
    "    dfs[i] = df\n",
    "merged = pd.concat(dfs.values())"
   ]
  },
  {
   "cell_type": "code",
   "execution_count": 7,
   "id": "fbee90f0",
   "metadata": {
    "execution": {
     "iopub.execute_input": "2023-07-25T15:15:07.209109Z",
     "iopub.status.busy": "2023-07-25T15:15:07.208916Z",
     "iopub.status.idle": "2023-07-25T15:15:07.454704Z",
     "shell.execute_reply": "2023-07-25T15:15:07.454334Z",
     "shell.execute_reply.started": "2023-07-25T15:15:07.209090Z"
    }
   },
   "outputs": [
    {
     "data": {
      "text/plain": [
       "0       None\n",
       "1       None\n",
       "14      None\n",
       "18      None\n",
       "20      None\n",
       "        ... \n",
       "2424    None\n",
       "2426    None\n",
       "2432    None\n",
       "2454    None\n",
       "2529    None\n",
       "Length: 227, dtype: object"
      ]
     },
     "execution_count": 7,
     "metadata": {},
     "output_type": "execute_result"
    }
   ],
   "source": [
    "# write all sequences from validation sets\n",
    "merged.drop_duplicates('wt_sequence').apply(lambda x: writeFastas(x['id'], x['wt_sequence'], 'blast/old_seqs.fasta'), axis=1)"
   ]
  },
  {
   "cell_type": "code",
   "execution_count": null,
   "id": "9f505956",
   "metadata": {},
   "outputs": [],
   "source": [
    "#os.system('makeblastdb -in mega_seqs.fasta -title \"mega_seqs\" -dbtype prot')\n",
    "#os.system('blastp -query old_seqs.fasta -out blast_old_against_mega.out -db mega_seqs.fasta -evalue 0.00001 -outfmt \"6 qacc sacc qseq sseq pident length mismatch gapopen qstart qend sstart send evalue bitscore\"')"
   ]
  },
  {
   "cell_type": "code",
   "execution_count": 28,
   "id": "472f210f",
   "metadata": {
    "execution": {
     "iopub.execute_input": "2023-07-25T15:43:54.253718Z",
     "iopub.status.busy": "2023-07-25T15:43:54.253517Z",
     "iopub.status.idle": "2023-07-25T15:43:54.261714Z",
     "shell.execute_reply": "2023-07-25T15:43:54.261368Z",
     "shell.execute_reply.started": "2023-07-25T15:43:54.253698Z"
    },
    "tags": []
   },
   "outputs": [
    {
     "data": {
      "text/plain": [
       "array(['1SSO_A', '1O6X_A', '1UZC_A', '2WQG_A', '1SHG_A', '2HBB_A',\n",
       "       '1DIV_A', '1YU5_X', '1UBQ_A', '1MJC_A', '1CSP_A', '2PTL_A',\n",
       "       '1SHF_A', '1PGA_A', '3DV0_I', '1OTR_B', '5CRO_O', '1AZP_A',\n",
       "       '1MSI_A', '1C9O_A', '1K9Q_A', '2RPN_A', '2A36_A', '5VP3_A',\n",
       "       '1HME_A', '1RTP_1'], dtype=object)"
      ]
     },
     "execution_count": 28,
     "metadata": {},
     "output_type": "execute_result"
    }
   ],
   "source": [
    "# import blast of validation sets against wt_unique\n",
    "blast = proccessBlast('blast/blast_old_against_mega.out')\n",
    "# proteins that are similar to mega dataset by more than 25%\n",
    "similar = blast[blast['pident'] > 25].qacc.unique()\n",
    "similar"
   ]
  },
  {
   "cell_type": "code",
   "execution_count": 13,
   "id": "7feca4f4",
   "metadata": {
    "execution": {
     "iopub.execute_input": "2023-07-25T15:17:25.364730Z",
     "iopub.status.busy": "2023-07-25T15:17:25.364541Z",
     "iopub.status.idle": "2023-07-25T15:17:25.430742Z",
     "shell.execute_reply": "2023-07-25T15:17:25.430305Z",
     "shell.execute_reply.started": "2023-07-25T15:17:25.364711Z"
    },
    "tags": []
   },
   "outputs": [
    {
     "name": "stdout",
     "output_type": "stream",
     "text": [
      "S669: 420/669\n",
      "Ssym: 342/342\n",
      "p53: 42/42\n",
      "Myoglobin: 134/134\n",
      "S2648: 2441/2648\n"
     ]
    }
   ],
   "source": [
    "# exclude proteins similar to mega dataset for validation sets\n",
    "for df_name in dfs.keys():\n",
    "    df = dfs[df_name]\n",
    "    filtered_df = df[~df['id'].isin(similar)]\n",
    "    print(f\"{df_name}: {filtered_df.shape[0]}/{df.shape[0]}\")\n",
    "    if filtered_df.shape[0] != df.shape[0]:\n",
    "        filtered_df.to_csv(f'datasets/{df_name}_{filtered_df.shape[0]}.tsv', index=False, sep='\\t')"
   ]
  },
  {
   "cell_type": "markdown",
   "id": "7226c174",
   "metadata": {},
   "source": [
    "## Exclude proteins similar to S2648 from validation sets"
   ]
  },
  {
   "cell_type": "code",
   "execution_count": 14,
   "id": "92f54fb3",
   "metadata": {
    "execution": {
     "iopub.execute_input": "2023-07-25T15:17:39.771264Z",
     "iopub.status.busy": "2023-07-25T15:17:39.771067Z",
     "iopub.status.idle": "2023-07-25T15:17:39.915943Z",
     "shell.execute_reply": "2023-07-25T15:17:39.915553Z",
     "shell.execute_reply.started": "2023-07-25T15:17:39.771244Z"
    },
    "tags": []
   },
   "outputs": [
    {
     "data": {
      "text/plain": [
       "0       None\n",
       "20      None\n",
       "21      None\n",
       "22      None\n",
       "23      None\n",
       "        ... \n",
       "2424    None\n",
       "2426    None\n",
       "2432    None\n",
       "2454    None\n",
       "2529    None\n",
       "Length: 132, dtype: object"
      ]
     },
     "execution_count": 14,
     "metadata": {},
     "output_type": "execute_result"
    }
   ],
   "source": [
    "# blast validation sets against S2648\n",
    "dfs['S2648'].drop_duplicates('wt_sequence').apply(lambda x: writeFastas(x['id'], x['wt_sequence'], 'S2648_seqs.fasta'), axis=1)"
   ]
  },
  {
   "cell_type": "code",
   "execution_count": 70,
   "id": "911a2df5",
   "metadata": {},
   "outputs": [
    {
     "name": "stdout",
     "output_type": "stream",
     "text": [
      "\n",
      "\n",
      "Building a new DB, current time: 07/12/2023 14:18:13\n",
      "New DB name:   /home/kluwik/Documents/PRJ/_ABYSSAL/blast/S2648_seqs.fasta\n",
      "New DB title:  S2648_seqs\n",
      "Sequence type: Protein\n",
      "Keep MBits: T\n",
      "Maximum file size: 3000000000B\n",
      "Adding sequences from FASTA; added 132 sequences in 0.0057261 seconds.\n",
      "\n",
      "\n"
     ]
    },
    {
     "data": {
      "text/plain": [
       "0"
      ]
     },
     "execution_count": 70,
     "metadata": {},
     "output_type": "execute_result"
    }
   ],
   "source": [
    "# blast validation sets against S2648 dataset\n",
    "#os.system('makeblastdb -in S2648_seqs.fasta -title \"S2648_seqs\" -dbtype prot')\n",
    "#os.system('blastp -query old_seqs.fasta -out blast_old_against_S2648.out -db S2648_seqs.fasta -evalue 0.00001 -outfmt \"6 qacc sacc qseq sseq pident length mismatch gapopen qstart qend sstart send evalue bitscore\"')"
   ]
  },
  {
   "cell_type": "code",
   "execution_count": 16,
   "id": "a82426a2",
   "metadata": {
    "execution": {
     "iopub.execute_input": "2023-07-25T15:18:03.625538Z",
     "iopub.status.busy": "2023-07-25T15:18:03.625355Z",
     "iopub.status.idle": "2023-07-25T15:18:03.633988Z",
     "shell.execute_reply": "2023-07-25T15:18:03.633638Z",
     "shell.execute_reply.started": "2023-07-25T15:18:03.625518Z"
    },
    "tags": []
   },
   "outputs": [
    {
     "data": {
      "text/plain": [
       "array(['5CRO_O', '1RTP_1', '1RIS_A', '1RG8_A', '1QLP_A', '1P2P_A',\n",
       "       '1OIA_A', '1MSI_A', '1MJC_A', '1MGR_A', '1LNI_A', '1KFW_A',\n",
       "       '1K9Q_A', '1JIW_I', '1IRO_A', '1IMQ_A', '1IGV_A', '1RTB_A',\n",
       "       '1SHF_A', '1IET_A', '3SSI_A', '5DFR_A', '3SIL_A', '3PGK_A',\n",
       "       '3MBP_A', '3GLY_A', '2TRX_A', '2IMM_A', '2DRI_A', '2A36_A',\n",
       "       '1AV1_A', '1ZNJ_B', '1ZG4_A', '1YYJ_A', '1UZC_A', '1TTQ_A',\n",
       "       '1IFC_A', '1HMS_A', '1A5E_A', '1AJ3_A', '2OCJ_A', '5PTI_A',\n",
       "       '4LYZ_A', '2RN2_A', '2LZM_A', '1VQB_A', '1RN1_C', '1OH0_A',\n",
       "       '1LZ1_A', '1IOB_A', '1IHB_A', '1EY0_A', '1CEY_A', '1BNI_A',\n",
       "       '1AMQ_A', '1BVC_A', '1AKY_A', '1HMK_A', '1AON_U', '1HME_A',\n",
       "       '1HFZ_A', '1H7M_A', '1G4I_A', '1FTG_A', '1FNA_A', '1E65_A',\n",
       "       '1DKT_A', '1CUN_A', '1CSP_A', '1CSE_I', '1C9O_A', '1BTA_A',\n",
       "       '1APS_A', '1A43_A', '1TIT_A', '1POH_A', '1KDX_A', '1LBI_A',\n",
       "       '1LUC_A', '2H61_A', '2CI2_I', '1TYV_A', '2ABD_A', '1LVE_A',\n",
       "       '1MBG_A', '1N0J_A', '1YU5_X', '1ONC_A', '1OTR_B', '1PDO_A',\n",
       "       '1PGA_A', '1AEP_A', '1WQ5_A', '1QGV_A', '1QM4_A', '1QND_A',\n",
       "       '1RHG_A', '1ROP_A', '1SAK_A', '1WIT_A', '1SHG_A', '1UBQ_A',\n",
       "       '1SSO_A', '1SUP_A', '1TEN_A', '1TPK_A', '1KE4_A', '1LUC_B',\n",
       "       '1KCQ_A', '1FKJ_A', '1AG2_A', '1AM7_A', '1ANK_A', '1ARR_A',\n",
       "       '1AZP_A', '1B26_A', '1B8E_A', '3HHR_A', '3ECA_A', '1BLC_A',\n",
       "       '2TS1_A', '2TRT_A', '1CAH_A', '1CHK_A', '1BOY_A', '1HTI_A',\n",
       "       '1IO2_A', '1HUU_A', '1G6N_A', '1FVK_A', '2HPR_A', '1HK0_X',\n",
       "       '1L63_A', '2RPN_A', '2BJD_A', '1O1U_A'], dtype=object)"
      ]
     },
     "execution_count": 16,
     "metadata": {},
     "output_type": "execute_result"
    }
   ],
   "source": [
    "# import blast of validation sets against S2648\n",
    "blast = proccessBlast('datasets/blast_old_against_S2648.out')\n",
    "# proteins that are similar to S2648 dataset by more than 25%\n",
    "similar = blast[blast['pident'] > 25].qacc.unique()\n",
    "similar"
   ]
  },
  {
   "cell_type": "code",
   "execution_count": 18,
   "id": "0f574d66",
   "metadata": {
    "execution": {
     "iopub.execute_input": "2023-07-25T15:19:08.509529Z",
     "iopub.status.busy": "2023-07-25T15:19:08.509334Z",
     "iopub.status.idle": "2023-07-25T15:19:08.515089Z",
     "shell.execute_reply": "2023-07-25T15:19:08.514667Z",
     "shell.execute_reply.started": "2023-07-25T15:19:08.509510Z"
    },
    "tags": []
   },
   "outputs": [
    {
     "name": "stdout",
     "output_type": "stream",
     "text": [
      "S669: 658/669\n",
      "Ssym: 0/342\n",
      "p53: 0/42\n",
      "Myoglobin: 0/134\n"
     ]
    }
   ],
   "source": [
    "# exclude proteins similar to mega dataset for validation sets\n",
    "for df_name in dfs.keys():\n",
    "    if df_name != 'S2648':\n",
    "        df = dfs[df_name]\n",
    "        filtered_df = df[~df['id'].isin(similar)]\n",
    "        print(f\"{df_name}: {filtered_df.shape[0]}/{df.shape[0]}\")"
   ]
  },
  {
   "cell_type": "code",
   "execution_count": 21,
   "id": "2e1c6552",
   "metadata": {
    "execution": {
     "iopub.execute_input": "2023-07-25T15:20:22.652520Z",
     "iopub.status.busy": "2023-07-25T15:20:22.652320Z",
     "iopub.status.idle": "2023-07-25T15:20:22.669038Z",
     "shell.execute_reply": "2023-07-25T15:20:22.668646Z",
     "shell.execute_reply.started": "2023-07-25T15:20:22.652500Z"
    },
    "tags": []
   },
   "outputs": [],
   "source": [
    "# exclude proteins similar to S2648 from S669_420\n",
    "\n",
    "s669_420 = pd.read_table('datasets/S669_420.tsv')\n",
    "s669_420[~s669_420['id'].isin(similar)].to_csv('datasets/S669_411.tsv', sep='\\t', index=False)"
   ]
  },
  {
   "cell_type": "code",
   "execution_count": 9,
   "id": "23a08dec-e916-4895-8829-fef21d266ccb",
   "metadata": {
    "execution": {
     "iopub.execute_input": "2023-08-01T11:21:19.198737Z",
     "iopub.status.busy": "2023-08-01T11:21:19.198488Z",
     "iopub.status.idle": "2023-08-01T11:21:19.211257Z",
     "shell.execute_reply": "2023-08-01T11:21:19.210847Z",
     "shell.execute_reply.started": "2023-08-01T11:21:19.198704Z"
    },
    "tags": []
   },
   "outputs": [
    {
     "name": "stdout",
     "output_type": "stream",
     "text": [
      "0\n",
      "0\n",
      "0\n",
      "0\n",
      "0\n"
     ]
    },
    {
     "name": "stderr",
     "output_type": "stream",
     "text": [
      "<ipython-input-9-2240a222246b>:3: FutureWarning: The default value of regex will change from True to False in a future version. In addition, single character regular expressions will*not* be treated as literal strings when regex=True.\n",
      "  df['sacc']=df['sacc'].str.replace('|','_')\n"
     ]
    }
   ],
   "source": [
    "# holdout proteins are not similar to old datasets\n",
    "df = proccessBlast('../fasta_blast/blast_old_against_mega.out')\n",
    "df['sacc']=df['sacc'].str.replace('|','_')\n",
    "for i in ['1UFM', 'v2R31S_R32S_2N5D', '2LHR', '2M8E', '2L6Q']:\n",
    "    s = df[df.sacc.str.contains(i)].shape[0]\n",
    "    print(s)"
   ]
  },
  {
   "cell_type": "code",
   "execution_count": null,
   "id": "705b2d2f-7b4f-4d3c-9bd6-ecbc7a596fd7",
   "metadata": {},
   "outputs": [],
   "source": []
  }
 ],
 "metadata": {
  "kernelspec": {
   "display_name": "Python 3",
   "language": "python",
   "name": "python3"
  },
  "language_info": {
   "codemirror_mode": {
    "name": "ipython",
    "version": 3
   },
   "file_extension": ".py",
   "mimetype": "text/x-python",
   "name": "python",
   "nbconvert_exporter": "python",
   "pygments_lexer": "ipython3",
   "version": "3.8.8"
  }
 },
 "nbformat": 4,
 "nbformat_minor": 5
}

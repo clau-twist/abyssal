{
 "cells": [
  {
   "cell_type": "code",
   "execution_count": 41,
   "metadata": {
    "execution": {
     "iopub.execute_input": "2023-07-15T06:37:46.182336Z",
     "iopub.status.busy": "2023-07-15T06:37:46.182183Z",
     "iopub.status.idle": "2023-07-15T06:37:46.184954Z",
     "shell.execute_reply": "2023-07-15T06:37:46.184592Z",
     "shell.execute_reply.started": "2023-07-15T06:37:46.182313Z"
    },
    "tags": []
   },
   "outputs": [],
   "source": [
    "import pandas as pd\n",
    "import numpy as np\n",
    "import random"
   ]
  },
  {
   "cell_type": "code",
   "execution_count": 42,
   "metadata": {
    "execution": {
     "iopub.execute_input": "2023-07-15T06:37:46.185634Z",
     "iopub.status.busy": "2023-07-15T06:37:46.185499Z",
     "iopub.status.idle": "2023-07-15T06:37:47.589709Z",
     "shell.execute_reply": "2023-07-15T06:37:47.589293Z",
     "shell.execute_reply.started": "2023-07-15T06:37:46.185615Z"
    },
    "tags": []
   },
   "outputs": [
    {
     "name": "stderr",
     "output_type": "stream",
     "text": [
      "/trinity/home/m.pak/bin/anaconda3/lib/python3.8/site-packages/IPython/core/interactiveshell.py:3165: DtypeWarning: Columns (10) have mixed types.Specify dtype option on import or set low_memory=False.\n",
      "  has_raised = await self.run_ast_nodes(code_ast.body, cell_name,\n"
     ]
    },
    {
     "name": "stdout",
     "output_type": "stream",
     "text": [
      "(376918, 13)\n"
     ]
    }
   ],
   "source": [
    "# import dataset\n",
    "single = pd.read_csv('k50_1_2_processed_single.tsv', sep='\\t', index_col=0)\n",
    "single['WT_length'] = single.wt_seq.apply(lambda x: len(x))\n",
    "print(single.shape)\n",
    "\n",
    "# IMPORT blast results\n",
    "blast = pd.read_csv('blast_processed.tsv', sep='\\t')\n",
    "\n",
    "# filter out ins del\n",
    "blast = blast[~blast.qacc.str.contains('ins')]\n",
    "blast = blast[~blast.qacc.str.contains('del')]\n",
    "blast = blast[~blast.sacc.str.contains('ins')]\n",
    "blast = blast[~blast.sacc.str.contains('del')]\n",
    "\n",
    "# for each unique protein leave only the highest identity \n",
    "df = blast.sort_values('pident', ascending=False).drop_duplicates('qacc') "
   ]
  },
  {
   "cell_type": "code",
   "execution_count": 43,
   "metadata": {
    "execution": {
     "iopub.execute_input": "2023-07-15T06:37:50.754051Z",
     "iopub.status.busy": "2023-07-15T06:37:50.753853Z",
     "iopub.status.idle": "2023-07-15T06:37:50.886013Z",
     "shell.execute_reply": "2023-07-15T06:37:50.885629Z",
     "shell.execute_reply.started": "2023-07-15T06:37:50.754030Z"
    },
    "tags": []
   },
   "outputs": [
    {
     "name": "stdout",
     "output_type": "stream",
     "text": [
      "101\n"
     ]
    },
    {
     "data": {
      "text/plain": [
       "array(['2D1U', '1UFM', '2N7Y', '1O6X', '2LT1', '3DKM', '2MRL', '2M2J',\n",
       "       '2MPK', '2QFF', 'v2R31S_R32S_2N5D', '6NS8_L8K', '2MA4', '7BPM',\n",
       "       '1WCL', '1AOY', '5KPH', '2KFV', '2MC5', '3L1X', '1QKH', '2RU9',\n",
       "       '2JT1', '1F0M', '2JN4', '6ACV', '1V1C', '2K5P', '6M3N', '2JRO',\n",
       "       '2JTV', '1ORC', '1QP2', '1UZC', '4C26', '2LQK', '1R69',\n",
       "       'v2K43S_2KVV', '2L8D', '2M7O_I21A', '5JRT', '1GYZ', 'v2_4UZX',\n",
       "       '1MHN', '7JJK', '2JRR', '2JZ2', 'r6_560_TrROS_Hall', '2WNM',\n",
       "       'r6_831_TrROS_Hall', '2LHR', '1JIC', '2MKY', '2L6Q', '2MI6',\n",
       "       '2MXD', 'v2_2LXE', '2KVT', '2KWH', '2MYX', 'v2_2LDM', 'v2_2HDZ',\n",
       "       'r11_797_TrROS_Hall', 'r11_951_TrROS_Hall', 'r11_233_TrROS_Hall',\n",
       "       'r11_692_TrROS_Hall', 'r11_829_TrROS_Hall', 'v2_6IVS', '2N88',\n",
       "       'r7_587_TrROS_Hall', 'r10_572_TrROS_Hall', 'r10_1151_TrROS_Hall',\n",
       "       'XX_run5_0690_0002', '5LXJ', 'r4_412_TrROS_Hall', '1IFY', '1PV0',\n",
       "       '3V1A', 'HEEH_KT_rd6_0007', 'HEEH_rd4_0094', 'HHH_rd1_0606',\n",
       "       'HEEH_KT_rd6_0793', 'HEEH_KT_rd6_0200', 'HHH_rd1_0335',\n",
       "       'HHH_rd4_0676', 'HEEH_KT_rd6_0790', 'HEEH_KT_rd6_3632',\n",
       "       'HEEH_rd3_0223', 'HHH_rd1_0033', 'HEEH_KT_rd6_0280',\n",
       "       'HHH_rd1_0578', 'HHH_rd4_0849', 'HHH_rd4_0870', 'HEEH_KT_rd6_0746',\n",
       "       'HHH_rd4_0816', '1K1V', '2GP8', '2JVD', '2M8E', '6YSE', '2YSC'],\n",
       "      dtype=object)"
      ]
     },
     "execution_count": 43,
     "metadata": {},
     "output_type": "execute_result"
    }
   ],
   "source": [
    "# proteins dissimilar to other in proteins in the dataset\n",
    "misfits = [i for i in single['WT_name'].unique() if i not in df.qacc.unique()] \n",
    "print(len(misfits))\n",
    "\n",
    "# mutations in dissimilar proteins\n",
    "misfits_mutations=single[single['WT_name'].isin([i for i in single['WT_name'].unique() if i not in df.qacc.unique()])]\n",
    "misfits_mutations.sort_values('WT_length')[::-1].drop_duplicates('WT_name').WT_name.unique()"
   ]
  },
  {
   "cell_type": "code",
   "execution_count": 44,
   "metadata": {
    "execution": {
     "iopub.execute_input": "2023-07-15T06:37:54.922592Z",
     "iopub.status.busy": "2023-07-15T06:37:54.922394Z",
     "iopub.status.idle": "2023-07-15T06:37:55.830056Z",
     "shell.execute_reply": "2023-07-15T06:37:55.829624Z",
     "shell.execute_reply.started": "2023-07-15T06:37:54.922572Z"
    },
    "tags": []
   },
   "outputs": [
    {
     "name": "stdout",
     "output_type": "stream",
     "text": [
      "(5321, 13)\n"
     ]
    }
   ],
   "source": [
    "# select five proteins for holdout set\n",
    "valid_misfits = ['1UFM', 'v2R31S_R32S_2N5D', '2LHR', '2M8E', '2L6Q']\n",
    "validation = single[single['WT_name'].isin(valid_misfits)]\n",
    "print(validation.shape)\n",
    "validation.to_csv('holdout.tsv', sep='\\t')"
   ]
  },
  {
   "cell_type": "code",
   "execution_count": 45,
   "metadata": {
    "execution": {
     "iopub.execute_input": "2023-07-15T06:37:58.226893Z",
     "iopub.status.busy": "2023-07-15T06:37:58.226681Z",
     "iopub.status.idle": "2023-07-15T06:37:58.497158Z",
     "shell.execute_reply": "2023-07-15T06:37:58.496739Z",
     "shell.execute_reply.started": "2023-07-15T06:37:58.226871Z"
    },
    "tags": []
   },
   "outputs": [
    {
     "name": "stdout",
     "output_type": "stream",
     "text": [
      "371597\n"
     ]
    }
   ],
   "source": [
    "# make train-test data (exclude holdout from mega dataset)\n",
    "train_test_data = single.loc[[i for i in single.index if i not in validation.index], :]\n",
    "print(len(train_test_data))"
   ]
  },
  {
   "cell_type": "code",
   "execution_count": 59,
   "metadata": {
    "execution": {
     "iopub.execute_input": "2023-07-15T06:45:02.647510Z",
     "iopub.status.busy": "2023-07-15T06:45:02.647307Z",
     "iopub.status.idle": "2023-07-15T06:45:02.665246Z",
     "shell.execute_reply": "2023-07-15T06:45:02.664847Z",
     "shell.execute_reply.started": "2023-07-15T06:45:02.647489Z"
    },
    "tags": []
   },
   "outputs": [
    {
     "data": {
      "text/html": [
       "<div>\n",
       "<style scoped>\n",
       "    .dataframe tbody tr th:only-of-type {\n",
       "        vertical-align: middle;\n",
       "    }\n",
       "\n",
       "    .dataframe tbody tr th {\n",
       "        vertical-align: top;\n",
       "    }\n",
       "\n",
       "    .dataframe thead th {\n",
       "        text-align: right;\n",
       "    }\n",
       "</style>\n",
       "<table border=\"1\" class=\"dataframe\">\n",
       "  <thead>\n",
       "    <tr style=\"text-align: right;\">\n",
       "      <th></th>\n",
       "      <th>WT_name</th>\n",
       "      <th>mutation</th>\n",
       "      <th>ddG_ML</th>\n",
       "      <th>mutation_type</th>\n",
       "      <th>wt_aa</th>\n",
       "      <th>position</th>\n",
       "      <th>mut_aa</th>\n",
       "      <th>wt_seq</th>\n",
       "      <th>mutant_seq</th>\n",
       "      <th>WT_cluster</th>\n",
       "      <th>name</th>\n",
       "      <th>id</th>\n",
       "      <th>WT_length</th>\n",
       "    </tr>\n",
       "  </thead>\n",
       "  <tbody>\n",
       "    <tr>\n",
       "      <th>34505</th>\n",
       "      <td>1O6X</td>\n",
       "      <td>H44R</td>\n",
       "      <td>-0.551043</td>\n",
       "      <td>single</td>\n",
       "      <td>H</td>\n",
       "      <td>44</td>\n",
       "      <td>R</td>\n",
       "      <td>VGDQVLEIVPSNEEQIKNLLQLEAQEHLQLDFWKSPTTPGETAHVR...</td>\n",
       "      <td>VGDQVLEIVPSNEEQIKNLLQLEAQEHLQLDFWKSPTTPGETARVR...</td>\n",
       "      <td>129</td>\n",
       "      <td>1O6X.pdb_H44R</td>\n",
       "      <td>1O6X_H44R</td>\n",
       "      <td>72</td>\n",
       "    </tr>\n",
       "    <tr>\n",
       "      <th>2283</th>\n",
       "      <td>1MHN</td>\n",
       "      <td>E45T</td>\n",
       "      <td>-0.101721</td>\n",
       "      <td>single</td>\n",
       "      <td>E</td>\n",
       "      <td>45</td>\n",
       "      <td>T</td>\n",
       "      <td>QWKVGDKCSAIWSEDGCIYPATIASIDFKRETCVVVYTGYGNREEQ...</td>\n",
       "      <td>QWKVGDKCSAIWSEDGCIYPATIASIDFKRETCVVVYTGYGNRETQ...</td>\n",
       "      <td>101</td>\n",
       "      <td>1MHN.pdb_E45T</td>\n",
       "      <td>1MHN_E45T</td>\n",
       "      <td>57</td>\n",
       "    </tr>\n",
       "    <tr>\n",
       "      <th>214446</th>\n",
       "      <td>1UBQ_I3A</td>\n",
       "      <td>V5S</td>\n",
       "      <td>3.575295</td>\n",
       "      <td>single</td>\n",
       "      <td>V</td>\n",
       "      <td>5</td>\n",
       "      <td>S</td>\n",
       "      <td>MQAFVKTLTGKTITLEVEPSDTIENVKAKIQDKEGIPPDQQRLIFA...</td>\n",
       "      <td>MQAFSKTLTGKTITLEVEPSDTIENVKAKIQDKEGIPPDQQRLIFA...</td>\n",
       "      <td>3</td>\n",
       "      <td>1UBQ.pdb_I3A_V5S</td>\n",
       "      <td>1UBQ_I3A_V5S</td>\n",
       "      <td>72</td>\n",
       "    </tr>\n",
       "  </tbody>\n",
       "</table>\n",
       "</div>"
      ],
      "text/plain": [
       "         WT_name mutation    ddG_ML mutation_type wt_aa  position mut_aa  \\\n",
       "34505       1O6X     H44R -0.551043        single     H        44      R   \n",
       "2283        1MHN     E45T -0.101721        single     E        45      T   \n",
       "214446  1UBQ_I3A      V5S  3.575295        single     V         5      S   \n",
       "\n",
       "                                                   wt_seq  \\\n",
       "34505   VGDQVLEIVPSNEEQIKNLLQLEAQEHLQLDFWKSPTTPGETAHVR...   \n",
       "2283    QWKVGDKCSAIWSEDGCIYPATIASIDFKRETCVVVYTGYGNREEQ...   \n",
       "214446  MQAFVKTLTGKTITLEVEPSDTIENVKAKIQDKEGIPPDQQRLIFA...   \n",
       "\n",
       "                                               mutant_seq WT_cluster  \\\n",
       "34505   VGDQVLEIVPSNEEQIKNLLQLEAQEHLQLDFWKSPTTPGETARVR...        129   \n",
       "2283    QWKVGDKCSAIWSEDGCIYPATIASIDFKRETCVVVYTGYGNRETQ...        101   \n",
       "214446  MQAFSKTLTGKTITLEVEPSDTIENVKAKIQDKEGIPPDQQRLIFA...          3   \n",
       "\n",
       "                    name            id  WT_length  \n",
       "34505      1O6X.pdb_H44R     1O6X_H44R         72  \n",
       "2283       1MHN.pdb_E45T     1MHN_E45T         57  \n",
       "214446  1UBQ.pdb_I3A_V5S  1UBQ_I3A_V5S         72  "
      ]
     },
     "execution_count": 59,
     "metadata": {},
     "output_type": "execute_result"
    }
   ],
   "source": [
    "train_test_data.sample(3)"
   ]
  },
  {
   "cell_type": "code",
   "execution_count": 49,
   "metadata": {
    "execution": {
     "iopub.execute_input": "2023-07-15T06:41:35.518158Z",
     "iopub.status.busy": "2023-07-15T06:41:35.517965Z",
     "iopub.status.idle": "2023-07-15T06:41:35.520598Z",
     "shell.execute_reply": "2023-07-15T06:41:35.520156Z",
     "shell.execute_reply.started": "2023-07-15T06:41:35.518137Z"
    },
    "tags": []
   },
   "outputs": [],
   "source": [
    "# dissimilar proteins go to test\n",
    "test_misfits = [i for i in misfits if i not in valid_misfits]"
   ]
  },
  {
   "cell_type": "code",
   "execution_count": 21,
   "metadata": {
    "execution": {
     "iopub.execute_input": "2023-07-12T07:47:23.067769Z",
     "iopub.status.busy": "2023-07-12T07:47:23.067572Z",
     "iopub.status.idle": "2023-07-12T07:47:23.074025Z",
     "shell.execute_reply": "2023-07-12T07:47:23.073617Z",
     "shell.execute_reply.started": "2023-07-12T07:47:23.067749Z"
    },
    "tags": []
   },
   "outputs": [],
   "source": [
    "def getTrainTest(thr, misfits_to_train=False):\n",
    "    print(f'Sequence identity: {thr}%')\n",
    "    # proteins in test are similar to proteins in the train at max thr %\n",
    "    blast_test = df[df[\"pident\"]<thr]\n",
    "    test_proteins = list(blast_test.qacc.unique()) \n",
    "    if misfits_to_train == False:\n",
    "        test_proteins += test_misfits ## test_misfits to test \n",
    "    \n",
    "    # size of test dataset\n",
    "    test = train_test_data[train_test_data['WT_name'].isin(test_proteins)]\n",
    "    train_index = [i for i in train_test_data.index if i not in test.index]\n",
    "    train = train_test_data.loc[train_index, :]\n",
    "    \n",
    "    #if diverse:\n",
    "    #    train = pd.concat([train, train_test_data[train_test_data['WT_name'].isin(test_misfits)] ]) ## test_misfits to train \n",
    "    \n",
    "    print(f'Test: {test.shape[0]}, {test.WT_name.nunique()} proteins')\n",
    "    print(f'Train: {train.shape[0]}, {train.WT_name.nunique()} proteins')\n",
    "    test_ratio = len(test) / len(single)\n",
    "    print(f'Train/test split: {(1-test_ratio):.0%}/{test_ratio:.0%}')\n",
    "    \n",
    "    # sanity check\n",
    "    if len(test) + len(train) != len(train_test_data):\n",
    "        print('AAA!!!')\n",
    "    return train, test"
   ]
  },
  {
   "cell_type": "code",
   "execution_count": 22,
   "metadata": {
    "collapsed": true,
    "execution": {
     "iopub.execute_input": "2023-07-12T07:47:57.563234Z",
     "iopub.status.busy": "2023-07-12T07:47:57.563030Z",
     "iopub.status.idle": "2023-07-12T07:48:35.203328Z",
     "shell.execute_reply": "2023-07-12T07:48:35.202822Z",
     "shell.execute_reply.started": "2023-07-12T07:47:57.563214Z"
    },
    "jupyter": {
     "outputs_hidden": true
    },
    "tags": []
   },
   "outputs": [
    {
     "name": "stdout",
     "output_type": "stream",
     "text": [
      "Sequence identity: 25%\n",
      "Test: 97422, 96 proteins\n",
      "Train: 274175, 295 proteins\n",
      "Train/test split: 74%/26%\n",
      "\n",
      "\n",
      "Sequence identity: 30%\n",
      "Test: 98610, 97 proteins\n",
      "Train: 272987, 294 proteins\n",
      "Train/test split: 74%/26%\n",
      "\n",
      "\n",
      "Sequence identity: 35%\n",
      "Test: 106482, 104 proteins\n",
      "Train: 265115, 287 proteins\n",
      "Train/test split: 72%/28%\n",
      "\n",
      "\n",
      "Sequence identity: 40%\n",
      "Test: 112665, 111 proteins\n",
      "Train: 258932, 280 proteins\n",
      "Train/test split: 70%/30%\n",
      "\n",
      "\n",
      "Sequence identity: 45%\n",
      "Test: 121002, 121 proteins\n",
      "Train: 250595, 270 proteins\n",
      "Train/test split: 68%/32%\n",
      "\n",
      "\n",
      "Sequence identity: 50%\n",
      "Test: 140821, 144 proteins\n",
      "Train: 230776, 247 proteins\n",
      "Train/test split: 63%/37%\n",
      "\n",
      "\n",
      "Sequence identity: 55%\n",
      "Test: 182626, 193 proteins\n",
      "Train: 188971, 198 proteins\n",
      "Train/test split: 52%/48%\n",
      "\n",
      "\n",
      "Sequence identity: 60%\n",
      "Test: 207821, 224 proteins\n",
      "Train: 163776, 167 proteins\n",
      "Train/test split: 45%/55%\n",
      "\n",
      "\n",
      "Sequence identity: 65%\n",
      "Test: 222038, 242 proteins\n",
      "Train: 149559, 149 proteins\n",
      "Train/test split: 41%/59%\n",
      "\n",
      "\n",
      "Sequence identity: 70%\n",
      "Test: 230740, 252 proteins\n",
      "Train: 140857, 139 proteins\n",
      "Train/test split: 39%/61%\n",
      "\n",
      "\n",
      "Sequence identity: 75%\n",
      "Test: 232624, 254 proteins\n",
      "Train: 138973, 137 proteins\n",
      "Train/test split: 38%/62%\n",
      "\n",
      "\n",
      "Sequence identity: 80%\n",
      "Test: 239833, 261 proteins\n",
      "Train: 131764, 130 proteins\n",
      "Train/test split: 36%/64%\n",
      "\n",
      "\n",
      "Sequence identity: 85%\n",
      "Test: 242774, 264 proteins\n",
      "Train: 128823, 127 proteins\n",
      "Train/test split: 36%/64%\n",
      "\n",
      "\n",
      "Sequence identity: 90%\n",
      "Test: 245682, 268 proteins\n",
      "Train: 125915, 123 proteins\n",
      "Train/test split: 35%/65%\n",
      "\n",
      "\n",
      "Sequence identity: 95%\n",
      "Test: 256510, 280 proteins\n",
      "Train: 115087, 111 proteins\n",
      "Train/test split: 32%/68%\n",
      "\n",
      "\n",
      "Sequence identity: 100%\n",
      "Test: 340333, 358 proteins\n",
      "Train: 31264, 33 proteins\n",
      "Train/test split: 10%/90%\n",
      "\n",
      "\n"
     ]
    }
   ],
   "source": [
    "# misfits to test\n",
    "for thr in range(25,105, 5):\n",
    "    train, test = getTrainTest(thr)\n",
    "    train.to_csv('train_test_sets/cutoff_splits/train_'+str(thr)+'.tsv', sep='\\t')\n",
    "    test.to_csv('train_test_sets/cutoff_splits/test_'+str(thr)+'.tsv', sep='\\t')\n",
    "    print('\\n')"
   ]
  },
  {
   "cell_type": "code",
   "execution_count": 24,
   "metadata": {
    "collapsed": true,
    "execution": {
     "iopub.execute_input": "2023-07-12T07:48:43.605809Z",
     "iopub.status.busy": "2023-07-12T07:48:43.605610Z",
     "iopub.status.idle": "2023-07-12T07:49:20.240475Z",
     "shell.execute_reply": "2023-07-12T07:49:20.239960Z",
     "shell.execute_reply.started": "2023-07-12T07:48:43.605788Z"
    },
    "jupyter": {
     "outputs_hidden": true
    },
    "tags": []
   },
   "outputs": [
    {
     "name": "stdout",
     "output_type": "stream",
     "text": [
      "Sequence identity: 25%\n",
      "Test: 0, 0 proteins\n",
      "Train: 371597, 391 proteins\n",
      "Train/test split: 100%/0%\n",
      "\n",
      "\n",
      "Sequence identity: 30%\n",
      "Test: 1188, 1 proteins\n",
      "Train: 370409, 390 proteins\n",
      "Train/test split: 100%/0%\n",
      "\n",
      "\n",
      "Sequence identity: 35%\n",
      "Test: 9060, 8 proteins\n",
      "Train: 362537, 383 proteins\n",
      "Train/test split: 98%/2%\n",
      "\n",
      "\n",
      "Sequence identity: 40%\n",
      "Test: 15243, 15 proteins\n",
      "Train: 356354, 376 proteins\n",
      "Train/test split: 96%/4%\n",
      "\n",
      "\n",
      "Sequence identity: 45%\n",
      "Test: 23580, 25 proteins\n",
      "Train: 348017, 366 proteins\n",
      "Train/test split: 94%/6%\n",
      "\n",
      "\n",
      "Sequence identity: 50%\n",
      "Test: 43399, 48 proteins\n",
      "Train: 328198, 343 proteins\n",
      "Train/test split: 88%/12%\n",
      "\n",
      "\n",
      "Sequence identity: 55%\n",
      "Test: 85204, 97 proteins\n",
      "Train: 286393, 294 proteins\n",
      "Train/test split: 77%/23%\n",
      "\n",
      "\n",
      "Sequence identity: 60%\n",
      "Test: 110399, 128 proteins\n",
      "Train: 261198, 263 proteins\n",
      "Train/test split: 71%/29%\n",
      "\n",
      "\n",
      "Sequence identity: 65%\n",
      "Test: 124616, 146 proteins\n",
      "Train: 246981, 245 proteins\n",
      "Train/test split: 67%/33%\n",
      "\n",
      "\n",
      "Sequence identity: 70%\n",
      "Test: 133318, 156 proteins\n",
      "Train: 238279, 235 proteins\n",
      "Train/test split: 65%/35%\n",
      "\n",
      "\n",
      "Sequence identity: 75%\n",
      "Test: 135202, 158 proteins\n",
      "Train: 236395, 233 proteins\n",
      "Train/test split: 64%/36%\n",
      "\n",
      "\n",
      "Sequence identity: 80%\n",
      "Test: 142411, 165 proteins\n",
      "Train: 229186, 226 proteins\n",
      "Train/test split: 62%/38%\n",
      "\n",
      "\n",
      "Sequence identity: 85%\n",
      "Test: 145352, 168 proteins\n",
      "Train: 226245, 223 proteins\n",
      "Train/test split: 61%/39%\n",
      "\n",
      "\n",
      "Sequence identity: 90%\n",
      "Test: 148260, 172 proteins\n",
      "Train: 223337, 219 proteins\n",
      "Train/test split: 61%/39%\n",
      "\n",
      "\n",
      "Sequence identity: 95%\n",
      "Test: 159088, 184 proteins\n",
      "Train: 212509, 207 proteins\n",
      "Train/test split: 58%/42%\n",
      "\n",
      "\n",
      "Sequence identity: 100%\n",
      "Test: 242911, 262 proteins\n",
      "Train: 128686, 129 proteins\n",
      "Train/test split: 36%/64%\n",
      "\n",
      "\n"
     ]
    }
   ],
   "source": [
    "# misfits to train\n",
    "for thr in range(25,105, 5):\n",
    "    train, test = getTrainTest(thr, misfits_to_train=True)\n",
    "    train.to_csv('train_test_sets/cutoff_splits_diverse_train/train_'+str(thr)+'.tsv', sep='\\t')\n",
    "    test.to_csv('train_test_sets/cutoff_splits_diverse_train/test_'+str(thr)+'.tsv', sep='\\t')\n",
    "    print('\\n')"
   ]
  },
  {
   "cell_type": "code",
   "execution_count": 25,
   "metadata": {
    "execution": {
     "iopub.execute_input": "2023-07-12T07:49:30.361331Z",
     "iopub.status.busy": "2023-07-12T07:49:30.361126Z",
     "iopub.status.idle": "2023-07-12T07:49:31.698685Z",
     "shell.execute_reply": "2023-07-12T07:49:31.698272Z",
     "shell.execute_reply.started": "2023-07-12T07:49:30.361309Z"
    },
    "tags": []
   },
   "outputs": [
    {
     "name": "stdout",
     "output_type": "stream",
     "text": [
      "[]\n",
      "[]\n",
      "[]\n",
      "[]\n"
     ]
    }
   ],
   "source": [
    "# sanity check\n",
    "# no proteins from test are is train\n",
    "print([i for i in train.WT_name.unique() if i in test.WT_name.unique()])\n",
    "print([i for i in train.WT_name.unique() if i in validation.WT_name.unique()])\n",
    "print([i for i in train.WT_name.unique() if i in df[df[\"pident\"]<thr]])\n",
    "print([i for i in validation.WT_name.unique() if i in df[df[\"pident\"]<thr]])"
   ]
  },
  {
   "cell_type": "code",
   "execution_count": null,
   "metadata": {},
   "outputs": [],
   "source": []
  }
 ],
 "metadata": {
  "kernelspec": {
   "display_name": "Python 3",
   "language": "python",
   "name": "python3"
  },
  "language_info": {
   "codemirror_mode": {
    "name": "ipython",
    "version": 3
   },
   "file_extension": ".py",
   "mimetype": "text/x-python",
   "name": "python",
   "nbconvert_exporter": "python",
   "pygments_lexer": "ipython3",
   "version": "3.7.3"
  }
 },
 "nbformat": 4,
 "nbformat_minor": 4
}
